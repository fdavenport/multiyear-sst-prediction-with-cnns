{
 "cells": [
  {
   "cell_type": "code",
   "execution_count": 2,
   "id": "7250f54e-598e-4836-bb0b-7e3fc2406566",
   "metadata": {},
   "outputs": [],
   "source": [
    "import numpy as np\n",
    "import xarray as xr\n",
    "import matplotlib.pyplot as plt\n",
    "import cartopy.crs as ccrs\n",
    "from project_utils import utils\n",
    "from project_utils import read_utils as read"
   ]
  },
  {
   "cell_type": "code",
   "execution_count": 3,
   "id": "ad2fa7e2-a802-4f57-ba3c-7e584310501f",
   "metadata": {},
   "outputs": [],
   "source": [
    "import warnings\n",
    "warnings.filterwarnings(\"ignore\")"
   ]
  },
  {
   "cell_type": "code",
   "execution_count": 4,
   "id": "3b22a2be-c4e0-4210-8d36-a1cf341e8e4d",
   "metadata": {},
   "outputs": [],
   "source": [
    "input_length = [12, 12, 12, 60]\n",
    "obs_dates = utils.load_dates(dataset=\"ERSSTv5\")\n",
    "gcm_dates = utils.load_dates()\n",
    "lats, lons = utils.load_lat_lon()\n",
    "na_lats = np.array([lats[0:5], lats[-5:]]).reshape(-1)\n",
    "\n",
    "from project_utils.variant_dict import VARIANT_DICT, test_index"
   ]
  },
  {
   "cell_type": "code",
   "execution_count": 5,
   "id": "f888d0b1-f697-4599-a277-1855bebe1102",
   "metadata": {},
   "outputs": [],
   "source": [
    "model_list=[\"ACCESS-ESM1-5\", \"CanESM5\", \"CNRM-CM6-1\", \"GISS-E2-1-G\", \n",
    "            \"IPSL-CM6A-LR\", \"MIROC-ES2L\", \"MIROC6\", \"MPI-ESM1-2-LR\", \"NorCPM1\"]\n",
    "leads = [0, 0, 24]\n",
    "prediction_lengths = [36, 60, 60]\n",
    "seeds = [101, 121, 505]\n",
    "y_var = \"tos\""
   ]
  },
  {
   "cell_type": "markdown",
   "id": "51c83ff8-0e47-40f9-9659-26cd89feb3bd",
   "metadata": {},
   "source": [
    "### Calculate accuracy on GCM test simulations"
   ]
  },
  {
   "cell_type": "code",
   "execution_count": 6,
   "id": "52e52e8f-d4d9-4279-a17e-0154106d2675",
   "metadata": {},
   "outputs": [
    {
     "name": "stdout",
     "output_type": "stream",
     "text": [
      "ACCESS-ESM1-5\n",
      "CanESM5\n",
      "CNRM-CM6-1\n",
      "GISS-E2-1-G\n",
      "IPSL-CM6A-LR\n",
      "MIROC-ES2L\n",
      "MIROC6\n",
      "MPI-ESM1-2-LR\n",
      "NorCPM1\n"
     ]
    }
   ],
   "source": [
    "for MODEL in model_list:\n",
    "    print(MODEL)\n",
    "    test_variants = VARIANT_DICT[MODEL][test_index]   \n",
    "    for lead, length in zip(leads, prediction_lengths):\n",
    "        _, _, prediction_dates = utils.get_prediction_dates(gcm_dates, input_length,lead,\n",
    "                                                    length)\n",
    "        _, y_test = read.load_xy_data(gcm_dates, input_length, lead, length, \"tos\", y_var,\n",
    "                         test_variants, MODEL)\n",
    "        y_test = xr.DataArray(data = y_test.reshape(len(test_variants), len(prediction_dates), len(lats), len(lons)), \n",
    "                      coords = dict(variant = test_variants, time = prediction_dates, lat = lats, lon = lons), \n",
    "                      name = y_var)\n",
    "        y_quantiles = read.read_data(y_var, MODEL, \n",
    "                             length, VARIANTS = test_variants, stat = \"quantiles\", as_xarray=True)\n",
    "\n",
    "        accuracy_list = []\n",
    "        accuracy40_list = []\n",
    "        accuracy20_list = []\n",
    "        for SEED in seeds:\n",
    "            model_predictions = xr.open_dataset(\"../processed_data/training/\"+y_var+\"_\"+str(length)+\"mo_\"+str(lead)+\"lead_\"+MODEL+\"-trained_\"+MODEL+\"-predictions_\"+str(SEED)+\".nc\")\n",
    "            accuracy_list.append(utils.calc_accuracy(model_predictions, y_test, y_quantiles, by_variant=True).rename(\"SEED_\"+str(SEED)))\n",
    "            accuracy40_list.append(utils.calc_accuracy(model_predictions, y_test, y_quantiles, conf_q = 0.6, by_variant=True).rename(\"SEED_\"+str(SEED)))\n",
    "            accuracy20_list.append(utils.calc_accuracy(model_predictions, y_test, y_quantiles, conf_q = 0.8, by_variant=True).rename(\"SEED_\"+str(SEED)))\n",
    "            \n",
    "        best_seed = xr.open_dataset(\"../processed_data/training/\"+y_var+\"_\"+str(length)+\"mo_\"+str(lead)+\"lead_\"+MODEL+\"_best_seed.nc\")\n",
    "        accuracy_ds = xr.where(best_seed.best_seed == 0, accuracy_list[0], \n",
    "                               xr.where(best_seed.best_seed == 1, accuracy_list[1], accuracy_list[2])).rename(\"score\")\n",
    "        accuracy40_ds = xr.where(best_seed.best_seed == 0, accuracy40_list[0], \n",
    "                               xr.where(best_seed.best_seed == 1, accuracy40_list[1], accuracy40_list[2])).rename(\"score\")\n",
    "        accuracy20_ds = xr.where(best_seed.best_seed == 0, accuracy20_list[0], \n",
    "                               xr.where(best_seed.best_seed == 1, accuracy20_list[1], accuracy20_list[2])).rename(\"score\")\n",
    "\n",
    "        accuracy_ds.to_netcdf(\"../processed_data/accuracy/GCM_accuracy_\"+MODEL+\\\n",
    "                          \"_\"+str(length)+\"mo_\"+str(lead)+\"lead.nc\")\n",
    "        accuracy40_ds.to_netcdf(\"../processed_data/accuracy/GCM_accuracy_top40_\"+MODEL+\\\n",
    "                          \"_\"+str(length)+\"mo_\"+str(lead)+\"lead.nc\")\n",
    "        accuracy20_ds.to_netcdf(\"../processed_data/accuracy/GCM_accuracy_top20_\"+MODEL+\\\n",
    "                          \"_\"+str(length)+\"mo_\"+str(lead)+\"lead.nc\")"
   ]
  },
  {
   "cell_type": "code",
   "execution_count": 8,
   "id": "42daadec-97cd-4f74-97b9-9f044f09ac88",
   "metadata": {},
   "outputs": [
    {
     "data": {
      "text/plain": [
       "<matplotlib.collections.QuadMesh at 0x2b3b1c7f0>"
      ]
     },
     "execution_count": 8,
     "metadata": {},
     "output_type": "execute_result"
    },
    {
     "data": {
      "image/png": "[encoded data removed]",
      "text/plain": [
       "<Figure size 640x480 with 2 Axes>"
      ]
     },
     "metadata": {},
     "output_type": "display_data"
    }
   ],
   "source": [
    "best_seed.best_seed.plot()"
   ]
  },
  {
   "cell_type": "markdown",
   "id": "4ff5462a-904b-4bea-8b9e-00f8b2d9754b",
   "metadata": {},
   "source": [
    "### Calculate accuracy on ERSSTv5 observations"
   ]
  },
  {
   "cell_type": "code",
   "execution_count": 10,
   "id": "42a3b498-b36d-4013-9ffe-c66d7d5d76e9",
   "metadata": {},
   "outputs": [
    {
     "name": "stdout",
     "output_type": "stream",
     "text": [
      "ACCESS-ESM1-5\n",
      "CanESM5\n",
      "CNRM-CM6-1\n",
      "GISS-E2-1-G\n",
      "IPSL-CM6A-LR\n",
      "MIROC-ES2L\n",
      "MIROC6\n",
      "MPI-ESM1-2-LR\n",
      "NorCPM1\n",
      "ACCESS-ESM1-5\n",
      "CanESM5\n",
      "CNRM-CM6-1\n",
      "GISS-E2-1-G\n",
      "IPSL-CM6A-LR\n",
      "MIROC-ES2L\n",
      "MIROC6\n",
      "MPI-ESM1-2-LR\n",
      "NorCPM1\n",
      "ACCESS-ESM1-5\n",
      "CanESM5\n",
      "CNRM-CM6-1\n",
      "GISS-E2-1-G\n",
      "IPSL-CM6A-LR\n",
      "MIROC-ES2L\n",
      "MIROC6\n",
      "MPI-ESM1-2-LR\n",
      "NorCPM1\n"
     ]
    }
   ],
   "source": [
    "for lead, length in zip(leads, prediction_lengths):\n",
    "    _, _, prediction_dates = utils.get_prediction_dates(obs_dates, input_length, lead, length)\n",
    "    _, y_obs = read.load_xy_obs(obs_dates, input_length, lead, length, \n",
    "                              X_VAR_NAME = \"sst\", Y_VAR_NAME = \"sst\", \n",
    "                                 DATASET=\"ERSSTv5\")\n",
    "    y_obs = xr.DataArray(data = y_obs.reshape(1, len(prediction_dates), len(lats), len(lons)), \n",
    "                      coords = dict(variant = [\"obs_variant\"], time = prediction_dates, lat = lats, lon = lons), \n",
    "                      name = \"tos\")\n",
    "    y_obs.loc[dict(lat=na_lats)] = np.nan\n",
    "\n",
    "    y_quantiles = xr.open_dataset(\"../processed_data/ERSSTv5/sst_5x5_\"+str(length)+\"month_quantiles.nc\").rename_dims(\n",
    "        {\"quantile\":\"q\"})\n",
    "\n",
    "    for MODEL in model_list:\n",
    "        print(MODEL) \n",
    "\n",
    "        accuracy_list = []\n",
    "        accuracy40_list = []\n",
    "        accuracy20_list = []\n",
    "        for SEED in seeds:\n",
    "            model_predictions = xr.open_dataset(\"../processed_data/training/tos_\"+str(length)+\"mo_\"+str(lead)+\"lead_\"+MODEL+\"-trained_ERSSTv5-predictions_\"+str(SEED)+\".nc\")\n",
    "            accuracy_list.append(utils.calc_accuracy(model_predictions, y_obs, y_quantiles))\n",
    "            accuracy40_list.append(utils.calc_accuracy(model_predictions, y_obs, y_quantiles, conf_q = 0.6))\n",
    "            accuracy20_list.append(utils.calc_accuracy(model_predictions, y_obs, y_quantiles, conf_q = 0.8))\n",
    "            \n",
    "        best_seed = xr.open_dataset(\"../processed_data/training/tos_\"+str(length)+\"mo_\"+str(lead)+\"lead_\"+MODEL+\"_best_seed.nc\")\n",
    "        accuracy_ds = xr.where(best_seed.best_seed == 0, accuracy_list[0], \n",
    "                               xr.where(best_seed.best_seed == 1, accuracy_list[1], accuracy_list[2])).rename({\"sst\":\"score\"})\n",
    "        accuracy40_ds = xr.where(best_seed.best_seed == 0, accuracy40_list[0], \n",
    "                               xr.where(best_seed.best_seed == 1, accuracy40_list[1], accuracy40_list[2])).rename({\"sst\":\"score\"})\n",
    "        accuracy20_ds = xr.where(best_seed.best_seed == 0, accuracy20_list[0], \n",
    "                               xr.where(best_seed.best_seed == 1, accuracy20_list[1], accuracy20_list[2])).rename({\"sst\":\"score\"})\n",
    "\n",
    "        accuracy_ds.to_netcdf(\"../processed_data/accuracy/ERSSTv5_accuracy_\"+MODEL+\\\n",
    "                          \"_\"+str(length)+\"mo_\"+str(lead)+\"lead.nc\")\n",
    "        accuracy40_ds.to_netcdf(\"../processed_data/accuracy/ERSSTv5_accuracy_top40_\"+MODEL+\\\n",
    "                          \"_\"+str(length)+\"mo_\"+str(lead)+\"lead.nc\")\n",
    "        accuracy20_ds.to_netcdf(\"../processed_data/accuracy/ERSSTv5_accuracy_top20_\"+MODEL+\\\n",
    "                          \"_\"+str(length)+\"mo_\"+str(lead)+\"lead.nc\")"
   ]
  },
  {
   "cell_type": "code",
   "execution_count": null,
   "id": "c032c92c-ae19-4311-8354-4d974710b688",
   "metadata": {},
   "outputs": [],
   "source": []
  },
  {
   "cell_type": "code",
   "execution_count": null,
   "id": "17d9d612-c153-4d7c-910a-6557971403d3",
   "metadata": {},
   "outputs": [],
   "source": []
  }
 ],
 "metadata": {
  "kernelspec": {
   "display_name": "Python 3 (ipykernel)",
   "language": "python",
   "name": "python3"
  },
  "language_info": {
   "codemirror_mode": {
    "name": "ipython",
    "version": 3
   },
   "file_extension": ".py",
   "mimetype": "text/x-python",
   "name": "python",
   "nbconvert_exporter": "python",
   "pygments_lexer": "ipython3",
   "version": "3.9.16"
  }
 },
 "nbformat": 4,
 "nbformat_minor": 5
}
