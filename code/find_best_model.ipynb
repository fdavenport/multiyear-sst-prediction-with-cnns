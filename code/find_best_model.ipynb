{
 "cells": [
  {
   "cell_type": "code",
   "execution_count": 2,
   "id": "48290574-6b5b-464c-bad1-407a3c536ce0",
   "metadata": {},
   "outputs": [],
   "source": [
    "import numpy as np\n",
    "import xarray as xr\n",
    "import matplotlib.pyplot as plt\n",
    "import cartopy.crs as ccrs\n",
    "from project_utils import utils\n",
    "from project_utils import read_utils as read"
   ]
  },
  {
   "cell_type": "code",
   "execution_count": 3,
   "id": "b1119387-3755-4800-9b10-9a4f6fda541b",
   "metadata": {},
   "outputs": [],
   "source": [
    "## prediction parameters\n",
    "input_length = [12, 12, 12, 60]\n",
    "orig_dates = utils.load_dates()\n",
    "lats, lons = utils.load_lat_lon()\n",
    "na_lats = np.array([lats[0:5], lats[-5:]]).reshape(-1)\n",
    "\n",
    "from project_utils.variant_dict import VARIANT_DICT, val_index"
   ]
  },
  {
   "cell_type": "code",
   "execution_count": 4,
   "id": "0db36c94-65fa-4822-9163-1c17d484c54c",
   "metadata": {},
   "outputs": [],
   "source": [
    "y_var = \"tos\"\n",
    "model_list=[\"ACCESS-ESM1-5\", \"CanESM5\", \"CNRM-CM6-1\", \"GISS-E2-1-G\", \n",
    "            \"IPSL-CM6A-LR\", \"MIROC-ES2L\", \"MIROC6\", \"MPI-ESM1-2-LR\", \"NorCPM1\"]\n",
    "leads = [0, 0, 24]\n",
    "prediction_lengths = [36, 60, 60]\n",
    "seeds = [101, 121, 505]"
   ]
  },
  {
   "cell_type": "code",
   "execution_count": 5,
   "id": "2049d9b3-0b25-48a9-a605-a300d66c0510",
   "metadata": {},
   "outputs": [
    {
     "name": "stdout",
     "output_type": "stream",
     "text": [
      "ACCESS-ESM1-5\n",
      "CanESM5\n",
      "CNRM-CM6-1\n",
      "GISS-E2-1-G\n",
      "IPSL-CM6A-LR\n",
      "MIROC-ES2L\n",
      "MIROC6\n",
      "MPI-ESM1-2-LR\n",
      "NorCPM1\n"
     ]
    }
   ],
   "source": [
    "for MODEL in model_list:\n",
    "    print(MODEL)\n",
    "    val_variants = VARIANT_DICT[MODEL][val_index]   \n",
    "    for lead, length in zip(leads, prediction_lengths):\n",
    "        _, _, prediction_dates = utils.get_prediction_dates(orig_dates, input_length,lead,\n",
    "                                                    length)\n",
    "        _, y_val = read.load_xy_data(orig_dates, input_length, lead, length, \"tos\", y_var,\n",
    "                         val_variants, MODEL)\n",
    "        y_val = xr.DataArray(data = y_val.reshape(len(val_variants), len(prediction_dates), len(lats), len(lons)), \n",
    "                      coords = dict(variant = val_variants, time = prediction_dates, lat = lats, lon = lons), \n",
    "                      name = y_var)\n",
    "        y_quantiles = read.read_data(y_var, MODEL, \n",
    "                             length, VARIANTS = val_variants, stat = \"quantiles\", as_xarray=True)\n",
    "\n",
    "        loss_list = []\n",
    "        for SEED in seeds:\n",
    "            loss_list.append(xr.open_dataset(\"../processed_data/training/\"+y_var+\"_\"+str(length)+\\\n",
    "                                             \"mo_\"+str(lead)+\"lead_\"+MODEL+\"-trained_\"+MODEL+\"-val_loss_\"+\\\n",
    "                                             str(SEED)+\".nc\").mean(dim = \"variant\").rename({\"val_loss\": \"SEED_\"+str(SEED)}))\n",
    "\n",
    "        loss_ds = xr.merge(loss_list)\n",
    "        na_mask = xr.where(np.isnan(loss_ds[\"SEED_\"+str(seeds[0])]), np.nan, 1)\n",
    "        best_seed = loss_ds.fillna(0).to_array(\"variable\").argmin(\"variable\")\n",
    "        best_seed = xr.where(np.isnan(na_mask), np.nan, best_seed).rename(\"best_seed\")\n",
    "        best_seed.to_netcdf(\"../processed_data/training/\"+y_var+\"_\"+str(length)+\\\n",
    "                  \"mo_\"+str(lead)+\"lead_\"+MODEL+\"_best_seed.nc\")\n"
   ]
  },
  {
   "cell_type": "code",
   "execution_count": null,
   "id": "92b8e4e3-8746-4420-8ae6-22a1654cc803",
   "metadata": {},
   "outputs": [],
   "source": []
  }
 ],
 "metadata": {
  "kernelspec": {
   "display_name": "Python 3 (ipykernel)",
   "language": "python",
   "name": "python3"
  },
  "language_info": {
   "codemirror_mode": {
    "name": "ipython",
    "version": 3
   },
   "file_extension": ".py",
   "mimetype": "text/x-python",
   "name": "python",
   "nbconvert_exporter": "python",
   "pygments_lexer": "ipython3",
   "version": "3.9.16"
  }
 },
 "nbformat": 4,
 "nbformat_minor": 5
}
