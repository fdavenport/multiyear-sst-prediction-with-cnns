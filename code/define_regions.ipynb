{
 "cells": [
  {
   "cell_type": "markdown",
   "id": "a91e1d48-4b9f-4d12-b7ec-6b27d1bbf9f7",
   "metadata": {},
   "source": [
    "## Define and export region boundaries for summary analysis"
   ]
  },
  {
   "cell_type": "code",
   "execution_count": 1,
   "id": "125fcc73-06b0-44d9-8f13-a4cd8f31ff2d",
   "metadata": {},
   "outputs": [],
   "source": [
    "import geopandas as gpd\n",
    "from shapely.geometry import Polygon"
   ]
  },
  {
   "cell_type": "code",
   "execution_count": 2,
   "id": "95d8e90e-a17c-4211-be60-26d7974f7201",
   "metadata": {},
   "outputs": [],
   "source": [
    "tpac_coords = [[170, 15],\n",
    "      [280, 15],\n",
    "      [280, -20], \n",
    "[170, -20]]\n",
    "\n",
    "npac_coords = [[150, 55],\n",
    "     [235, 55],\n",
    "      [235, 15], \n",
    "      [170, 15], \n",
    "               [170, 5], \n",
    "               [130, 5], \n",
    "               [130, 20], \n",
    "               [150, 20]]\n",
    "natl_coords = [[300, 65],\n",
    "      [350, 65],\n",
    "      [350, 35], \n",
    "[300, 35]]\n",
    "\n",
    "socean_coords = [[0, -45],\n",
    "      [360, -45],[360, -65], \n",
    "                [0, -65]]\n",
    "\n",
    "tatl_coords = [[285, 35],\n",
    "     [345, 35],\n",
    " [345, 0], \n",
    "[285, 0]]\n",
    "\n",
    "wind_coords = [[45, 20],\n",
    "      [75, 20],\n",
    "   [75, -15], \n",
    "[45, -15]]"
   ]
  },
  {
   "cell_type": "code",
   "execution_count": 3,
   "id": "621ef5e0-ce87-4753-8c4f-12ae57c1dc14",
   "metadata": {},
   "outputs": [],
   "source": [
    "def to_central260(coords):\n",
    "    lon, lat = coords\n",
    "    if(lon == 0):\n",
    "        return([lon-180, lat])\n",
    "    elif(lon == 360):\n",
    "        return([lon-180, lat])\n",
    "    else: \n",
    "        return([lon-260, lat])"
   ]
  },
  {
   "cell_type": "code",
   "execution_count": 4,
   "id": "395ded25-adb4-4fb7-9f45-86b5448a1eb1",
   "metadata": {},
   "outputs": [],
   "source": [
    "tpac_poly = Polygon(tpac_coords)\n",
    "tpac_poly = gpd.GeoDataFrame(index=[0], crs='epsg:4326', geometry=[tpac_poly])\n",
    "tpac_poly.to_file(\"../processed_data/region_shapefiles/tropical_pacific.shp\", driver=\"ESRI Shapefile\")\n",
    "\n",
    "npac_poly = Polygon(npac_coords)\n",
    "npac_poly = gpd.GeoDataFrame(index=[0], crs='epsg:4326', geometry=[npac_poly])\n",
    "npac_poly.to_file(\"../processed_data/region_shapefiles/north_pacific.shp\", driver=\"ESRI Shapefile\")\n",
    "\n",
    "natl_poly = Polygon(natl_coords)\n",
    "natl_poly = gpd.GeoDataFrame(index=[0], crs='epsg:4326', geometry=[natl_poly])\n",
    "natl_poly.to_file(\"../processed_data/region_shapefiles/north_atlantic.shp\", driver=\"ESRI Shapefile\")\n",
    "natl_poly = Polygon([to_central260(coords) for coords in natl_coords])\n",
    "natl_poly = gpd.GeoDataFrame(index=[0], crs='epsg:4326', geometry=[natl_poly])\n",
    "natl_poly.to_file(\"../processed_data/region_shapefiles/north_atlantic_260.shp\", driver=\"ESRI Shapefile\")\n",
    "\n",
    "tatl_poly = Polygon(tatl_coords)\n",
    "tatl_poly = gpd.GeoDataFrame(index=[0], crs='epsg:4326', geometry=[tatl_poly])\n",
    "tatl_poly.to_file(\"../processed_data/region_shapefiles/tropical_atlantic.shp\", driver=\"ESRI Shapefile\")\n",
    "tatl_poly = Polygon([to_central260(coords) for coords in tatl_coords])\n",
    "tatl_poly = gpd.GeoDataFrame(index=[0], crs='epsg:4326', geometry=[tatl_poly])\n",
    "tatl_poly.to_file(\"../processed_data/region_shapefiles/tropical_atlantic_260.shp\", driver=\"ESRI Shapefile\")\n",
    "\n",
    "socean_poly = Polygon(socean_coords)\n",
    "socean_poly = gpd.GeoDataFrame(index=[0], crs='epsg:4326', geometry=[socean_poly])\n",
    "socean_poly.to_file(\"../processed_data/region_shapefiles/southern_ocean.shp\", driver=\"ESRI Shapefile\")\n",
    "socean_poly = Polygon([to_central260(coords) for coords in socean_coords])\n",
    "socean_poly = gpd.GeoDataFrame(index=[0], crs='epsg:4326', geometry=[socean_poly])\n",
    "socean_poly.to_file(\"../processed_data/region_shapefiles/southern_ocean_260.shp\", driver=\"ESRI Shapefile\")\n",
    "\n",
    "wind_poly = Polygon(wind_coords)\n",
    "wind_poly = gpd.GeoDataFrame(index=[0], crs='epsg:4326', geometry=[wind_poly])\n",
    "wind_poly.to_file(\"../processed_data/region_shapefiles/west_indian.shp\", driver=\"ESRI Shapefile\")"
   ]
  },
  {
   "cell_type": "code",
   "execution_count": null,
   "id": "90423414-0340-4a73-97e0-765e340a4904",
   "metadata": {},
   "outputs": [],
   "source": []
  }
 ],
 "metadata": {
  "kernelspec": {
   "display_name": "Python 3 (ipykernel)",
   "language": "python",
   "name": "python3"
  },
  "language_info": {
   "codemirror_mode": {
    "name": "ipython",
    "version": 3
   },
   "file_extension": ".py",
   "mimetype": "text/x-python",
   "name": "python",
   "nbconvert_exporter": "python",
   "pygments_lexer": "ipython3",
   "version": "3.9.16"
  }
 },
 "nbformat": 4,
 "nbformat_minor": 5
}
